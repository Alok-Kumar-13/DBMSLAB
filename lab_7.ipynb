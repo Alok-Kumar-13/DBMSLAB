{
 "cells": [
  {
   "cell_type": "markdown",
   "id": "8320e68e",
   "metadata": {},
   "source": [
    "### Lab 7  <br> Name :Alok Kumar<br>Admission No : 22MT0059<br>"
   ]
  },
  {
   "cell_type": "code",
   "execution_count": 1,
   "id": "1a8e9adc",
   "metadata": {},
   "outputs": [],
   "source": [
    "import pymysql\n",
    "import os\n",
    "from git import Repo\n",
    "import time\n",
    "\n",
    "# Establish connection to the database\n",
    "cnx = pymysql.connect(user='ak', host='localhost', database='dbmslab')\n",
    "# Create a cursor object\n",
    "cursor = cnx.cursor()\n"
   ]
  },
  {
   "cell_type": "code",
   "execution_count": 4,
   "id": "f65a8c6e",
   "metadata": {},
   "outputs": [
    {
     "name": "stdout",
     "output_type": "stream",
     "text": [
      "('10101', 'Srinivasan', 'Comp. Sci.')\n",
      "('10212', 'Tom', 'Biology')\n",
      "('15151', 'Mozart', 'Music')\n",
      "('22222', 'Einstein', 'Physics')\n",
      "('32343', 'El Said', 'History')\n",
      "('33456', 'Gold', 'Physics')\n",
      "('45565', 'Katz', 'Comp. Sci.')\n",
      "('58583', 'Califieri', 'History')\n",
      "('76543', 'Singh', 'Finance')\n",
      "('76766', 'Crick', 'Biology')\n",
      "('83821', 'Brandt', 'Comp. Sci.')\n",
      "('98345', 'Kim', 'Elec. Eng.')\n",
      "time taken for query 1: 0.0030138492584228516\n"
     ]
    }
   ],
   "source": [
    "# 1. Create a view of instructors without their salary called faculty\n",
    "start = time.time()\n",
    "#cursor.execute(\"create view faculty as select ID ,name,dept_name from instructor;\")\n",
    "cursor.execute(\"select * from faculty;\")\n",
    "myresult = cursor.fetchall()\n",
    "end = time.time()\n",
    "\n",
    "# Print the results\n",
    "for x in myresult:\n",
    "    print(x)\n",
    "print(\"time taken for query 1:\",end - start)"
   ]
  },
  {
   "cell_type": "code",
   "execution_count": 6,
   "id": "44f72198",
   "metadata": {},
   "outputs": [
    {
     "name": "stdout",
     "output_type": "stream",
     "text": [
      "('Comp. Sci.', 232000.0)\n",
      "('Biology', 72000.0)\n",
      "('Music', 40000.0)\n",
      "('Physics', 182000.0)\n",
      "('History', 122000.0)\n",
      "('Finance', 80000.0)\n",
      "('Elec. Eng.', 80000.0)\n",
      "time taken for query 2: 0.013303041458129883\n"
     ]
    }
   ],
   "source": [
    "\n",
    "## 2. Create a view of department salary totals\n",
    "start = time.time()\n",
    "cursor.execute(\"create view dept_total_salary as select dept_name ,sum(salary) as 'Total' from instructor group by dept_name ;\")\n",
    "cursor.execute(\"select * from dept_total_salary;\")\n",
    "myresult = cursor.fetchall()\n",
    "end = time.time()\n",
    "for x in myresult:\n",
    "    print(x)\n",
    "print(\"time taken for query 2:\",end - start)"
   ]
  },
  {
   "cell_type": "code",
   "execution_count": 8,
   "id": "e78796fe",
   "metadata": {},
   "outputs": [
    {
     "name": "stdout",
     "output_type": "stream",
     "text": [
      "time taken for query 3: 0.0\n"
     ]
    }
   ],
   "source": [
    "#3. Create a role of student\n",
    "start = time.time()\n",
    "cursor.execute(\"create role students ;\")\n",
    "end = time.time()\n",
    "print(\"time taken for query 3:\",end - start)"
   ]
  },
  {
   "cell_type": "code",
   "execution_count": 9,
   "id": "20dea882",
   "metadata": {},
   "outputs": [
    {
     "name": "stdout",
     "output_type": "stream",
     "text": [
      "time taken for query 4: 0.006415128707885742\n"
     ]
    }
   ],
   "source": [
    "#4. Give select privileges on the view faculty to the role student.\n",
    "start = time.time()\n",
    "cursor.execute(\"grant select on faculty to student\")\n",
    "end = time.time()\n",
    "print(\"time taken for query 4:\",end - start)"
   ]
  },
  {
   "cell_type": "code",
   "execution_count": 14,
   "id": "c26fb268",
   "metadata": {},
   "outputs": [
    {
     "name": "stdout",
     "output_type": "stream",
     "text": [
      "time taken for query 5: 0.005427122116088867\n"
     ]
    }
   ],
   "source": [
    "# 5. Create a new user and assign her the role of student.\n",
    "\n",
    "start = time.time()\n",
    "cursor.execute(\"CREATE USER 'new_user'@'localhost' IDENTIFIED BY '12345'\")\n",
    "cursor.execute(\"GRANT student TO 'new_user'@'localhost' \")\n",
    "end = time.time()\n",
    "print(\"time taken for query 5:\",end - start)"
   ]
  },
  {
   "cell_type": "code",
   "execution_count": 15,
   "id": "5f239197",
   "metadata": {},
   "outputs": [
    {
     "name": "stdout",
     "output_type": "stream",
     "text": [
      "time taken for query 6: 0.004000663757324219\n"
     ]
    }
   ],
   "source": [
    "# 6. Revoke privileges of the new user\n",
    "\n",
    "start = time.time()\n",
    "cursor.execute(\"REVOKE ALL PRIVILEGES, GRANT OPTION FROM 'new_user'@'localhost'\")\n",
    "end = time.time()\n",
    "print(\"time taken for query 6:\",end - start)"
   ]
  },
  {
   "cell_type": "code",
   "execution_count": 17,
   "id": "46c7ce10",
   "metadata": {},
   "outputs": [
    {
     "name": "stdout",
     "output_type": "stream",
     "text": [
      "time taken for query 7: 0.005005598068237305\n"
     ]
    }
   ],
   "source": [
    "# 7. Remove the role of student.\n",
    "start = time.time()\n",
    "cursor.execute(\"drop role students \")\n",
    "end = time.time()\n",
    "print(\"time taken for query 7:\",end - start)"
   ]
  },
  {
   "cell_type": "code",
   "execution_count": 20,
   "id": "a50f7ec1",
   "metadata": {},
   "outputs": [
    {
     "name": "stdout",
     "output_type": "stream",
     "text": [
      "time taken for query 8: 0.0050275325775146484\n"
     ]
    }
   ],
   "source": [
    "# 8. Give select privileges on the view faculty to the new user.\n",
    "\n",
    "start = time.time()\n",
    "query = \"grant select on faculty to new_user@localhost\"\n",
    "cursor.execute(query)\n",
    "end = time.time()\n",
    "print(\"time taken for query 8:\",end - start)"
   ]
  },
  {
   "cell_type": "code",
   "execution_count": 42,
   "id": "e84d9420",
   "metadata": {},
   "outputs": [
    {
     "name": "stdout",
     "output_type": "stream",
     "text": [
      "time taken for query 9: 0.021442413330078125\n"
     ]
    }
   ],
   "source": [
    "# 9. Create table teaches3 with same columns as teaches but \n",
    "# with additional constraint that that semester is one of fall, winter, spring or summer.\n",
    "start = time.time()\n",
    "query = \"CREATE TABLE teaches3 (ID INT NOT NULL,Course_id VARCHAR(10) NOT NULL,sec_id VARCHAR(10) NOT NULL,semester ENUM('fall', 'winter', 'spring', 'summer') NOT NULL,year INT NOT NULL, PRIMARY KEY (ID))\"\n",
    "\n",
    "cursor.execute(query)\n",
    "end = time.time()\n",
    "print(\"time taken for query 9:\",end - start)"
   ]
  },
  {
   "cell_type": "code",
   "execution_count": 30,
   "id": "5bba7f1a",
   "metadata": {},
   "outputs": [
    {
     "name": "stdout",
     "output_type": "stream",
     "text": [
      "('83821', 'CS-190', 1, 'Spring', 2017)\n",
      "('83821', 'CS-190', 2, 'Spring', 2017)\n",
      "('83821', 'CS-319', 2, 'Spring', 2018)\n",
      "time taken for query 10 without index: 0.0012946128845214844\n",
      "('83821', 'CS-190', 1, 'Spring', 2017)\n",
      "('83821', 'CS-190', 2, 'Spring', 2017)\n",
      "('83821', 'CS-319', 2, 'Spring', 2018)\n",
      "time taken for query 10 with index: 0.0010001659393310547\n"
     ]
    }
   ],
   "source": [
    "# 10. Create index ID column of teaches.\n",
    "# Compare the difference in time to obtain query results with or without index.\n",
    "\n",
    "start = time.time()\n",
    "query = \"SELECT * FROM teaches WHERE ID = 83821\"\n",
    "cursor.execute(query)\n",
    "end = time.time()\n",
    "myresult = cursor.fetchall()\n",
    "for x in myresult:\n",
    "    print(x)\n",
    "print(\"time taken for query 10 without index:\",end - start)\n",
    "\n",
    "cursor.execute(\"create index on teaches (ID)\")\n",
    "\n",
    "start = time.time()\n",
    "query = \"SELECT * FROM teaches WHERE ID = 83821\"\n",
    "cursor.execute(query)\n",
    "end = time.time()\n",
    "myresult = cursor.fetchall()\n",
    "for x in myresult:\n",
    "    print(x)\n",
    "print(\"time taken for query 10 with index:\",end - start)"
   ]
  },
  {
   "cell_type": "code",
   "execution_count": 34,
   "id": "628d18a4",
   "metadata": {},
   "outputs": [
    {
     "name": "stdout",
     "output_type": "stream",
     "text": [
      "time taken for query 11 with index: 0.012828826904296875\n"
     ]
    }
   ],
   "source": [
    "# 11. Drop the index to free up the space.\n",
    "\n",
    "start = time.time()\n",
    "query = \"ALTER TABLE teaches DROP INDEX idx_teaches_Course_id\"\n",
    "cursor.execute(query)\n",
    "end = time.time()\n",
    "\n",
    "print(\"time taken for query 11 with index:\",end - start)"
   ]
  },
  {
   "cell_type": "code",
   "execution_count": null,
   "id": "a6608095",
   "metadata": {},
   "outputs": [],
   "source": [
    "\n",
    "# Close the cursor and connection\n",
    "cursor.close()\n",
    "cnx.close()\n",
    "\n",
    "# Initialize a new Git repository or open an existing one\n",
    "repo_path = os.getcwd()\n",
    "repo = Repo.init(repo_path)\n",
    "\n",
    "# Add the database.py file to the repository\n",
    "repo.index.add(['database_lab_7.py'])\n",
    "\n",
    "# Commit the changes\n",
    "repo.index.commit('Add database_lab7.py')\n",
    "\n",
    "# Push the changes to GitHub\n",
    "origin = repo.remote(name='origin')\n",
    "origin.push()"
   ]
  }
 ],
 "metadata": {
  "kernelspec": {
   "display_name": "Python 3 (ipykernel)",
   "language": "python",
   "name": "python3"
  },
  "language_info": {
   "codemirror_mode": {
    "name": "ipython",
    "version": 3
   },
   "file_extension": ".py",
   "mimetype": "text/x-python",
   "name": "python",
   "nbconvert_exporter": "python",
   "pygments_lexer": "ipython3",
   "version": "3.9.12"
  }
 },
 "nbformat": 4,
 "nbformat_minor": 5
}
