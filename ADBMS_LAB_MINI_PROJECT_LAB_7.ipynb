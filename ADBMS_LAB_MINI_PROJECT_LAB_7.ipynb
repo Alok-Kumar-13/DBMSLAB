{
 "cells": [
  {
   "cell_type": "markdown",
   "id": "dd729443",
   "metadata": {},
   "source": [
    "### Lab Mini Project  <br> Name :Alok Kumar<br>Admission No : 22MT0059<br>"
   ]
  },
  {
   "cell_type": "markdown",
   "id": "7cfcde21",
   "metadata": {},
   "source": [
    "#### Create a python program/application which asks users to fill up a form (say name, address, contact number etc) and inserts those values into a corresponding table in a database. Use git to manage the code."
   ]
  },
  {
   "cell_type": "code",
   "execution_count": 1,
   "id": "0568b39f",
   "metadata": {},
   "outputs": [
    {
     "name": "stdout",
     "output_type": "stream",
     "text": [
      "Time Taken to Establish Connection(sec):  0.025611162185668945\n",
      "<mysql.connector.connection_cext.CMySQLConnection object at 0x0000021D8B72F190>\n"
     ]
    }
   ],
   "source": [
    "import mysql.connector as sc\n",
    "import time \n",
    "start = time.time()\n",
    "myconn = sc.connect(user='ak', host='localhost', database='dbmslab')\n",
    "end = time.time()\n",
    "print(\"Time Taken to Establish Connection(sec): \",end-start)\n",
    "print(myconn)"
   ]
  },
  {
   "cell_type": "code",
   "execution_count": 2,
   "id": "1d1961f3",
   "metadata": {},
   "outputs": [],
   "source": [
    "## Cursor\n",
    "cursor = myconn.cursor(buffered =True)"
   ]
  },
  {
   "cell_type": "code",
   "execution_count": 3,
   "id": "21aaa847",
   "metadata": {},
   "outputs": [],
   "source": [
    "## Creating Table : user_detail \n",
    "query = \"create table user_detail\\\n",
    "(Name varchar(20),\\\n",
    "address varchar(50),\\\n",
    "contact int\\\n",
    ");\"\n",
    "cursor.execute(query)"
   ]
  },
  {
   "cell_type": "code",
   "execution_count": 8,
   "id": "112a342c",
   "metadata": {},
   "outputs": [
    {
     "name": "stdout",
     "output_type": "stream",
     "text": [
      "Please Enter Your NameRohan\n",
      "Please Enter Your AddressDhanbad\n",
      "Please Enter Your Contact No:576845637\n",
      "Insertion SuccessFul\n"
     ]
    }
   ],
   "source": [
    "### Taking Input From User \n",
    "name = input(\"Please Enter Your Name\")\n",
    "address = input(\"Please Enter Your Address\")\n",
    "contact = input(\"Please Enter Your Contact No:\")\n",
    "if(name.isnumeric() or contact.isalpha()):\n",
    "    print(\"Invalid input Type\")\n",
    "else:\n",
    "    query = \"insert into user_detail(name ,address ,contact) values(%s,%s,%s);\"\n",
    "    cursor.execute(query,(name ,address,contact))\n",
    "    print(\"Insertion SuccessFul\")"
   ]
  },
  {
   "cell_type": "code",
   "execution_count": 9,
   "id": "ba648ad4",
   "metadata": {},
   "outputs": [
    {
     "name": "stdout",
     "output_type": "stream",
     "text": [
      "('ALOK KUMAR', 'Lucknow', 123456789)\n",
      "('Amit', 'Delhi', 456123789)\n",
      "('Rohan', 'Dhanbad', 576845637)\n"
     ]
    }
   ],
   "source": [
    "### Checking User Entered Data is inserted in Database or Not \n",
    "query = \"select * from user_detail\"\n",
    "cursor.execute(query)\n",
    "for x in cursor:\n",
    "    print(x)"
   ]
  }
 ],
 "metadata": {
  "kernelspec": {
   "display_name": "Python 3 (ipykernel)",
   "language": "python",
   "name": "python3"
  },
  "language_info": {
   "codemirror_mode": {
    "name": "ipython",
    "version": 3
   },
   "file_extension": ".py",
   "mimetype": "text/x-python",
   "name": "python",
   "nbconvert_exporter": "python",
   "pygments_lexer": "ipython3",
   "version": "3.9.12"
  }
 },
 "nbformat": 4,
 "nbformat_minor": 5
}
