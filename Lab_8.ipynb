{
 "cells": [
  {
   "cell_type": "code",
   "execution_count": null,
   "id": "5c6e2080",
   "metadata": {},
   "outputs": [],
   "source": [
    "### LAB 8 <br>Name : Alok Kumar <br> Admission No. : 22MT0059"
   ]
  },
  {
   "cell_type": "code",
   "execution_count": 1,
   "id": "9dc2e177",
   "metadata": {},
   "outputs": [
    {
     "name": "stdout",
     "output_type": "stream",
     "text": [
      "Time Taken to Establish Connection(sec):  0.06498479843139648\n",
      "<mysql.connector.connection_cext.CMySQLConnection object at 0x0000023EF18CF820>\n"
     ]
    }
   ],
   "source": [
    "import mysql.connector as sc\n",
    "import time \n",
    "start = time.time()\n",
    "myconn = sc.connect(user='ak', host='localhost', database='dbmslab')\n",
    "end = time.time()\n",
    "print(\"Time Taken to Establish Connection(sec): \",end-start)\n",
    "print(myconn)"
   ]
  },
  {
   "cell_type": "code",
   "execution_count": 2,
   "id": "a8269c8e",
   "metadata": {},
   "outputs": [],
   "source": [
    "## Cursor\n",
    "cursor = myconn.cursor(buffered =True)"
   ]
  },
  {
   "cell_type": "markdown",
   "id": "90136c7f",
   "metadata": {},
   "source": [
    "#### 1. Given input as salary of three months (jan, feb, march), <br>write a program that returns the total salary for quarter 1 (Q1)."
   ]
  },
  {
   "cell_type": "code",
   "execution_count": 4,
   "id": "ce78d6ce",
   "metadata": {},
   "outputs": [
    {
     "name": "stdout",
     "output_type": "stream",
     "text": [
      "Enter a salary to calculate the total salary for quarter1\n",
      "Enter salary of January :100\n",
      "Enter salary of February:200\n",
      "Enter salary of March : 300\n",
      "The total salary for quarter 1 :  600.0\n"
     ]
    }
   ],
   "source": [
    "print(\"Enter a salary to calculate the total salary for quarter1\")\n",
    "jan_salary = float(input(\"Enter salary of January :\"))\n",
    "feb_salary = float(input(\"Enter salary of February:\"))\n",
    "march_salary = float(input(\"Enter salary of March : \"))\n",
    "print(\"The total salary for quarter 1 : \" ,jan_salary+ feb_salary + march_salary )"
   ]
  },
  {
   "cell_type": "markdown",
   "id": "2d5280f6",
   "metadata": {},
   "source": []
  },
  {
   "cell_type": "code",
   "execution_count": null,
   "id": "d33dfc15",
   "metadata": {},
   "outputs": [],
   "source": []
  },
  {
   "cell_type": "code",
   "execution_count": null,
   "id": "548cfb7f",
   "metadata": {},
   "outputs": [],
   "source": []
  }
 ],
 "metadata": {
  "kernelspec": {
   "display_name": "Python 3 (ipykernel)",
   "language": "python",
   "name": "python3"
  },
  "language_info": {
   "codemirror_mode": {
    "name": "ipython",
    "version": 3
   },
   "file_extension": ".py",
   "mimetype": "text/x-python",
   "name": "python",
   "nbconvert_exporter": "python",
   "pygments_lexer": "ipython3",
   "version": "3.9.12"
  }
 },
 "nbformat": 4,
 "nbformat_minor": 5
}
