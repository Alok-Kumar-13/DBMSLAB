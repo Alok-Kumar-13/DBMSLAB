{
 "cells": [
  {
   "cell_type": "markdown",
   "id": "d7301593",
   "metadata": {},
   "source": [
    "### LAB 8 <br>Name : Alok Kumar <br> Admission No. : 22MT0059"
   ]
  },
  {
   "cell_type": "code",
   "execution_count": 27,
   "id": "38a21132",
   "metadata": {},
   "outputs": [
    {
     "name": "stdout",
     "output_type": "stream",
     "text": [
      "Time Taken to Establish Connection(sec):  0.02234029769897461\n",
      "<mysql.connector.connection_cext.CMySQLConnection object at 0x0000023EF4321F40>\n"
     ]
    }
   ],
   "source": [
    "import mysql.connector as sc\n",
    "import time \n",
    "start = time.time()\n",
    "myconn = sc.connect(user='ak', host='localhost', database='dbmslab')\n",
    "end = time.time()\n",
    "print(\"Time Taken to Establish Connection(sec): \",end-start)\n",
    "print(myconn)"
   ]
  },
  {
   "cell_type": "code",
   "execution_count": 28,
   "id": "f4a59653",
   "metadata": {},
   "outputs": [],
   "source": [
    "## Cursor\n",
    "cursor = myconn.cursor(buffered =True)"
   ]
  },
  {
   "cell_type": "markdown",
   "id": "f9937f09",
   "metadata": {},
   "source": [
    "#### 1. Given input as salary of three months (jan, feb, march), <br>write a program that returns the total salary for quarter 1 (Q1)."
   ]
  },
  {
   "cell_type": "code",
   "execution_count": 9,
   "id": "e00c0633",
   "metadata": {},
   "outputs": [],
   "source": [
    "#declaring and defining function\n",
    "cursor.execute(\"set global log_bin_trust_function_creators = 1\")\n",
    "cursor.execute(\"create function calc_quarter (jan_salary double ,feb_salary double  , march_salary double) returns double begin declare result double; set result = jan_salary + feb_salary + march_salary ; return result; end\")\n"
   ]
  },
  {
   "cell_type": "code",
   "execution_count": 22,
   "id": "c7c4f6b2",
   "metadata": {},
   "outputs": [
    {
     "name": "stdout",
     "output_type": "stream",
     "text": [
      "Enter a salary to calculate the total salary for quarter1\n",
      "Enter salary of January :40000\n",
      "Enter salary of February:41000\n",
      "Enter salary of March : 40500\n",
      "The total salary for quarter 1 :  (121500.0,)\n"
     ]
    }
   ],
   "source": [
    "print(\"Enter a salary to calculate the total salary for quarter1\")\n",
    "jan_salary = float(input(\"Enter salary of January :\"))\n",
    "feb_salary = float(input(\"Enter salary of February:\"))\n",
    "march_salary = float(input(\"Enter salary of March : \"))\n",
    "\n",
    "\n",
    "val = (jan_salary,feb_salary ,march_salary)\n",
    "sql = \"set @x = calc_quarter(%s,%s,%s ) \"\n",
    "cursor.execute(sql,val)\n",
    "cursor.execute(\"select @x\")\n",
    "myresult = cursor.fetchall()\n",
    "for x in myresult:\n",
    "    print(\"The total salary for quarter 1 : \" ,x)"
   ]
  },
  {
   "cell_type": "markdown",
   "id": "53d08334",
   "metadata": {},
   "source": [
    "#### 2) Commit your work on github"
   ]
  },
  {
   "cell_type": "code",
   "execution_count": 43,
   "id": "9ce1c17b",
   "metadata": {},
   "outputs": [
    {
     "data": {
      "text/plain": [
       "[<git.remote.PushInfo at 0x23ef44a1720>]"
      ]
     },
     "execution_count": 43,
     "metadata": {},
     "output_type": "execute_result"
    }
   ],
   "source": [
    "import os\n",
    "from git import Repo\n",
    "\n",
    "# Initialize a new Git repository or open an existing one\n",
    "repo_path = os.getcwd()\n",
    "repo = Repo.init(repo_path)\n",
    "\n",
    "# Add the database.py file to the repository\n",
    "repo.index.add(['Lab_8.ipynb'])\n",
    "\n",
    "# Commit the changes\n",
    "repo.index.commit('Lab_8.ipynb')\n",
    "\n",
    "# Push the changes to GitHub\n",
    "origin = repo.remote(name='origin')\n",
    "origin.push()"
   ]
  },
  {
   "cell_type": "markdown",
   "id": "bf63acb0",
   "metadata": {},
   "source": [
    "#### 3. Alter the existing instructor table and add a column of age and fill in the values in it."
   ]
  },
  {
   "cell_type": "code",
   "execution_count": 30,
   "id": "c8bd752e",
   "metadata": {},
   "outputs": [],
   "source": [
    "cursor.execute(\"ALTER TABLE instructor ADD age int(10) DEFAULT 42\")"
   ]
  },
  {
   "cell_type": "code",
   "execution_count": 29,
   "id": "bef2f57a",
   "metadata": {},
   "outputs": [
    {
     "name": "stdout",
     "output_type": "stream",
     "text": [
      "('10212', 'Tom', 'Biology', None, 42)\n",
      "('12454', 'Sumit', 'Electrical', 56000.0, 34)\n",
      "('32343', 'El Said', 'History', 60000.0, 54)\n",
      "('33456', 'Gold', 'Physics', 87000.0, 23)\n",
      "('4321', 'hgfd', 'kjhgfds', 46654.0, 34)\n",
      "('45565', 'Katz', 'Comp. Sci.', 75000.0, 56)\n",
      "('45676', 'Amit Kumar', 'Chemistry', 450000.0, 36)\n",
      "('58583', 'Califieri', 'History', 62000.0, 31)\n",
      "('58687', 'Ashu', 'Biology', 56000.0, 32)\n",
      "('67878', 'Ritik', 'Mechanical', 50000.0, 42)\n",
      "('76543', 'Singh', 'Finance', 80000.0, 45)\n",
      "('76766', 'Crick', 'Biology', 72000.0, 24)\n",
      "('78967779', 'Ajay', 'Mining', 340000.0, 29)\n",
      "('83821', 'Brandt', 'Comp. Sci.', 92000.0, 32)\n",
      "('85895', 'RAJ', 'Music', 42000.0, 33)\n",
      "('98345', 'Kim', 'Elec. Eng.', 80000.0, 42)\n"
     ]
    }
   ],
   "source": [
    "cursor.execute(\"select * from instructor\")\n",
    "myresult = cursor.fetchall()\n",
    "for x in myresult:\n",
    "    print(x)"
   ]
  },
  {
   "cell_type": "markdown",
   "id": "6d825ca0",
   "metadata": {},
   "source": [
    "#### 4.Create table ‘instructor’ with the columns as ID, name, dept_name,salary, age. Add the following tuples to the table.<br>(10101,'Srinivasan','Comp. Sci.',65000, 34),<br> (12121,'Wu','Finance',90000, 38),<br>(15151,'Mozart','Music',40000, 45),<br> (22222,'Einstein','Physics',95000, 55)"
   ]
  },
  {
   "cell_type": "code",
   "execution_count": 34,
   "id": "2fd3d745",
   "metadata": {},
   "outputs": [
    {
     "name": "stdout",
     "output_type": "stream",
     "text": [
      "4 Record inserted successfully into instructor table\n"
     ]
    }
   ],
   "source": [
    " mySql_insert_query = \"\"\"INSERT INTO instructor (Id, name, dept_name, salary , Age) \n",
    "                           VALUES (%s, %s, %s, %s,%s) \"\"\"\n",
    "records_to_insert = [('10101','Srinivasan','Comp. Sci.',65000, 34), \n",
    "                     ('12121','Wu','Finance',90000, 38),\n",
    "                     ('22222','Einstein','Physics',95000, 55),\n",
    "                    ('15151','Mozart','Music',40000, 45)]\n",
    "\n",
    "\n",
    "cursor.executemany(mySql_insert_query, records_to_insert)\n",
    "myconn.commit()\n",
    "print(cursor.rowcount, \"Record inserted successfully into instructor table\")"
   ]
  },
  {
   "cell_type": "markdown",
   "id": "45524c7d",
   "metadata": {},
   "source": [
    "#### 5.Create a function that helps distinguish whether an instructor is eligible for sabbatical or not.<br> An instructor can avail sabbatical only if his/her age is greater than 40.<br>So, write a program that takes as input an integer (representing age) and <br>returns affirmatively if the integer is greater than 40."
   ]
  },
  {
   "cell_type": "code",
   "execution_count": 36,
   "id": "e4207226",
   "metadata": {},
   "outputs": [],
   "source": [
    "#declaring and defining function\n",
    "cursor.execute(\"set global log_bin_trust_function_creators = 1\")\n",
    "cursor.execute(\"create function isSabbatical (age int(10)) returns int begin declare result TINYINT; set result = age > 40; return result; end\")\n"
   ]
  },
  {
   "cell_type": "markdown",
   "id": "4c34052a",
   "metadata": {},
   "source": [
    "#### 6) Commit your work on github"
   ]
  },
  {
   "cell_type": "code",
   "execution_count": 40,
   "id": "0458e479",
   "metadata": {},
   "outputs": [
    {
     "data": {
      "text/plain": [
       "[<git.remote.PushInfo at 0x23ef43ffcc0>]"
      ]
     },
     "execution_count": 40,
     "metadata": {},
     "output_type": "execute_result"
    }
   ],
   "source": [
    "import os\n",
    "from git import Repo\n",
    "\n",
    "# Initialize a new Git repository or open an existing one\n",
    "repo_path = os.getcwd()\n",
    "repo = Repo.init(repo_path)\n",
    "\n",
    "# Add the database.py file to the repository\n",
    "repo.index.add(['Lab_8.ipynb'])\n",
    "\n",
    "# Commit the changes\n",
    "repo.index.commit('Lab_8.ipynb')\n",
    "\n",
    "# Push the changes to GitHub\n",
    "origin = repo.remote(name='origin')\n",
    "origin.push()"
   ]
  },
  {
   "cell_type": "markdown",
   "id": "f179b938",
   "metadata": {},
   "source": [
    "#### 7) Find all instructors who can avail sabbatical from the database."
   ]
  },
  {
   "cell_type": "code",
   "execution_count": 38,
   "id": "13900607",
   "metadata": {},
   "outputs": [
    {
     "name": "stdout",
     "output_type": "stream",
     "text": [
      "Instructors who are eligible  for sabbatical\n",
      "('Mozart',)\n",
      "('Einstein',)\n",
      "('El Said',)\n",
      "('Katz',)\n",
      "('Tom',)\n",
      "('Ritik',)\n",
      "('Singh',)\n",
      "('Kim',)\n"
     ]
    }
   ],
   "source": [
    "# Print the name of all instructor who are eligible  for sabbatical\n",
    "cursor.execute(\"select name from instructor where isSabbatical(age ) = 1\")\n",
    "myresult = cursor.fetchall()\n",
    "print(\"Instructors who are eligible  for sabbatical\")\n",
    "for x in myresult:\n",
    "    print(x)"
   ]
  },
  {
   "cell_type": "markdown",
   "id": "e6935c0c",
   "metadata": {},
   "source": [
    "#### 8) Add columns of monthly salary, exemptions, taxes, gross_salary etc."
   ]
  },
  {
   "cell_type": "code",
   "execution_count": 1,
   "id": "25405eff",
   "metadata": {},
   "outputs": [],
   "source": [
    "cursor.execute(\"ALTER TABLE instructor \"\n",
    "\"RENAME COLUMN salary to monthly_salary,\"\n",
    "\"ADD COLUMN exemptions double,\"\n",
    "\"ADD COLUMN gross_salary double\")\n"
   ]
  },
  {
   "cell_type": "markdown",
   "id": "48e1e976",
   "metadata": {},
   "source": [
    "#### 9) Commit your work on github"
   ]
  },
  {
   "cell_type": "code",
   "execution_count": 3,
   "id": "e4b5f1f9",
   "metadata": {},
   "outputs": [
    {
     "data": {
      "text/plain": [
       "[<git.remote.PushInfo at 0x1793c70aa40>]"
      ]
     },
     "execution_count": 3,
     "metadata": {},
     "output_type": "execute_result"
    }
   ],
   "source": [
    "import os\n",
    "from git import Repo\n",
    "\n",
    "# Initialize a new Git repository or open an existing one\n",
    "repo_path = os.getcwd()\n",
    "repo = Repo.init(repo_path)\n",
    "\n",
    "# Add the database.py file to the repository\n",
    "repo.index.add(['Lab_8.ipynb'])\n",
    "\n",
    "# Commit the changes\n",
    "repo.index.commit('Comlete all Lab 8 queries')\n",
    "\n",
    "# Push the changes to GitHub\n",
    "origin = repo.remote(name='origin')\n",
    "origin.push()"
   ]
  },
  {
   "cell_type": "code",
   "execution_count": null,
   "id": "40007e39",
   "metadata": {},
   "outputs": [],
   "source": []
  }
 ],
 "metadata": {
  "kernelspec": {
   "display_name": "Python 3 (ipykernel)",
   "language": "python",
   "name": "python3"
  },
  "language_info": {
   "codemirror_mode": {
    "name": "ipython",
    "version": 3
   },
   "file_extension": ".py",
   "mimetype": "text/x-python",
   "name": "python",
   "nbconvert_exporter": "python",
   "pygments_lexer": "ipython3",
   "version": "3.9.12"
  }
 },
 "nbformat": 4,
 "nbformat_minor": 5
}
