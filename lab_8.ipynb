{
 "cells": [
  {
   "cell_type": "markdown",
   "id": "8f4a8921",
   "metadata": {},
   "source": [
    "### LAB 8 <br>Name : Alok Kumar <br> Admission No. : 22MT0059"
   ]
  },
  {
   "cell_type": "code",
   "execution_count": 27,
   "id": "a01de269",
   "metadata": {},
   "outputs": [
    {
     "name": "stdout",
     "output_type": "stream",
     "text": [
      "Time Taken to Establish Connection(sec):  0.02234029769897461\n",
      "<mysql.connector.connection_cext.CMySQLConnection object at 0x0000023EF4321F40>\n"
     ]
    }
   ],
   "source": [
    "import mysql.connector as sc\n",
    "import time \n",
    "start = time.time()\n",
    "myconn = sc.connect(user='ak', host='localhost', database='dbmslab')\n",
    "end = time.time()\n",
    "print(\"Time Taken to Establish Connection(sec): \",end-start)\n",
    "print(myconn)"
   ]
  },
  {
   "cell_type": "code",
   "execution_count": 28,
   "id": "e4d49bb2",
   "metadata": {},
   "outputs": [],
   "source": [
    "## Cursor\n",
    "cursor = myconn.cursor(buffered =True)"
   ]
  },
  {
   "cell_type": "markdown",
   "id": "2b581366",
   "metadata": {},
   "source": [
    "#### 1. Given input as salary of three months (jan, feb, march), <br>write a program that returns the total salary for quarter 1 (Q1)."
   ]
  },
  {
   "cell_type": "code",
   "execution_count": 9,
   "id": "62a7bc99",
   "metadata": {},
   "outputs": [],
   "source": [
    "#declaring and defining function\n",
    "cursor.execute(\"set global log_bin_trust_function_creators = 1\")\n",
    "cursor.execute(\"create function calc_quarter (jan_salary double ,feb_salary double  , march_salary double) returns double begin declare result double; set result = jan_salary + feb_salary + march_salary ; return result; end\")\n"
   ]
  },
  {
   "cell_type": "code",
   "execution_count": 22,
   "id": "eb544207",
   "metadata": {},
   "outputs": [
    {
     "name": "stdout",
     "output_type": "stream",
     "text": [
      "Enter a salary to calculate the total salary for quarter1\n",
      "Enter salary of January :40000\n",
      "Enter salary of February:41000\n",
      "Enter salary of March : 40500\n",
      "The total salary for quarter 1 :  (121500.0,)\n"
     ]
    }
   ],
   "source": [
    "print(\"Enter a salary to calculate the total salary for quarter1\")\n",
    "jan_salary = float(input(\"Enter salary of January :\"))\n",
    "feb_salary = float(input(\"Enter salary of February:\"))\n",
    "march_salary = float(input(\"Enter salary of March : \"))\n",
    "\n",
    "\n",
    "val = (jan_salary,feb_salary ,march_salary)\n",
    "sql = \"set @x = calc_quarter(%s,%s,%s ) \"\n",
    "cursor.execute(sql,val)\n",
    "cursor.execute(\"select @x\")\n",
    "myresult = cursor.fetchall()\n",
    "for x in myresult:\n",
    "    print(\"The total salary for quarter 1 : \" ,x)"
   ]
  },
  {
   "cell_type": "markdown",
   "id": "497359b5",
   "metadata": {},
   "source": [
    "#### 3. Alter the existing instructor table and add a column of age and fill in the values in it."
   ]
  },
  {
   "cell_type": "code",
   "execution_count": 30,
   "id": "643376ea",
   "metadata": {},
   "outputs": [],
   "source": [
    "cursor.execute(\"ALTER TABLE instructor ADD age int(10) DEFAULT 42\")"
   ]
  },
  {
   "cell_type": "code",
   "execution_count": 29,
   "id": "81182280",
   "metadata": {},
   "outputs": [
    {
     "name": "stdout",
     "output_type": "stream",
     "text": [
      "('10212', 'Tom', 'Biology', None, 42)\n",
      "('12454', 'Sumit', 'Electrical', 56000.0, 34)\n",
      "('32343', 'El Said', 'History', 60000.0, 54)\n",
      "('33456', 'Gold', 'Physics', 87000.0, 23)\n",
      "('4321', 'hgfd', 'kjhgfds', 46654.0, 34)\n",
      "('45565', 'Katz', 'Comp. Sci.', 75000.0, 56)\n",
      "('45676', 'Amit Kumar', 'Chemistry', 450000.0, 36)\n",
      "('58583', 'Califieri', 'History', 62000.0, 31)\n",
      "('58687', 'Ashu', 'Biology', 56000.0, 32)\n",
      "('67878', 'Ritik', 'Mechanical', 50000.0, 42)\n",
      "('76543', 'Singh', 'Finance', 80000.0, 45)\n",
      "('76766', 'Crick', 'Biology', 72000.0, 24)\n",
      "('78967779', 'Ajay', 'Mining', 340000.0, 29)\n",
      "('83821', 'Brandt', 'Comp. Sci.', 92000.0, 32)\n",
      "('85895', 'RAJ', 'Music', 42000.0, 33)\n",
      "('98345', 'Kim', 'Elec. Eng.', 80000.0, 42)\n"
     ]
    }
   ],
   "source": [
    "cursor.execute(\"select * from instructor\")\n",
    "myresult = cursor.fetchall()\n",
    "for x in myresult:\n",
    "    print(x)"
   ]
  },
  {
   "cell_type": "markdown",
   "id": "69a22f14",
   "metadata": {},
   "source": [
    "#### 2.Create table ‘instructor’ with the columns as ID, name, dept_name,salary, age. Add the following tuples to the table.<br>(10101,'Srinivasan','Comp. Sci.',65000, 34),<br> (12121,'Wu','Finance',90000, 38),<br>(15151,'Mozart','Music',40000, 45),<br> (22222,'Einstein','Physics',95000, 55)"
   ]
  },
  {
   "cell_type": "code",
   "execution_count": 34,
   "id": "a4d6480c",
   "metadata": {},
   "outputs": [
    {
     "name": "stdout",
     "output_type": "stream",
     "text": [
      "4 Record inserted successfully into instructor table\n"
     ]
    }
   ],
   "source": [
    " mySql_insert_query = \"\"\"INSERT INTO instructor (Id, name, dept_name, salary , Age) \n",
    "                           VALUES (%s, %s, %s, %s,%s) \"\"\"\n",
    "records_to_insert = [('10101','Srinivasan','Comp. Sci.',65000, 34), \n",
    "                     ('12121','Wu','Finance',90000, 38),\n",
    "                     ('22222','Einstein','Physics',95000, 55),\n",
    "                    ('15151','Mozart','Music',40000, 45)]\n",
    "\n",
    "\n",
    "cursor.executemany(mySql_insert_query, records_to_insert)\n",
    "myconn.commit()\n",
    "print(cursor.rowcount, \"Record inserted successfully into instructor table\")"
   ]
  },
  {
   "cell_type": "markdown",
   "id": "86fac02c",
   "metadata": {},
   "source": [
    "#### 4.Create a function that helps distinguish whether an instructor is eligible for sabbatical or not.<br> An instructor can avail sabbatical only if his/her age is greater than 40.<br>So, write a program that takes as input an integer (representing age) and <br>returns affirmatively if the integer is greater than 40."
   ]
  },
  {
   "cell_type": "code",
   "execution_count": 36,
   "id": "f053438a",
   "metadata": {},
   "outputs": [],
   "source": [
    "#declaring and defining function\n",
    "cursor.execute(\"set global log_bin_trust_function_creators = 1\")\n",
    "cursor.execute(\"create function isSabbatical (age int(10)) returns int begin declare result TINYINT; set result = age > 40; return result; end\")\n"
   ]
  },
  {
   "cell_type": "code",
   "execution_count": 38,
   "id": "279cda96",
   "metadata": {},
   "outputs": [
    {
     "name": "stdout",
     "output_type": "stream",
     "text": [
      "Instructors who are eligible  for sabbatical\n",
      "('Mozart',)\n",
      "('Einstein',)\n",
      "('El Said',)\n",
      "('Katz',)\n",
      "('Tom',)\n",
      "('Ritik',)\n",
      "('Singh',)\n",
      "('Kim',)\n"
     ]
    }
   ],
   "source": [
    "# Print the name of all instructor who are eligible  for sabbatical\n",
    "cursor.execute(\"select name from instructor where isSabbatical(age ) = 1\")\n",
    "myresult = cursor.fetchall()\n",
    "print(\"Instructors who are eligible  for sabbatical\")\n",
    "for x in myresult:\n",
    "    print(x)"
   ]
  },
  {
   "cell_type": "code",
   "execution_count": 39,
   "id": "7f5d256b",
   "metadata": {},
   "outputs": [
    {
     "ename": "NameError",
     "evalue": "name 'os' is not defined",
     "output_type": "error",
     "traceback": [
      "\u001b[1;31m---------------------------------------------------------------------------\u001b[0m",
      "\u001b[1;31mNameError\u001b[0m                                 Traceback (most recent call last)",
      "Input \u001b[1;32mIn [39]\u001b[0m, in \u001b[0;36m<cell line: 3>\u001b[1;34m()\u001b[0m\n\u001b[0;32m      1\u001b[0m \u001b[38;5;28;01mfrom\u001b[39;00m \u001b[38;5;21;01mgit\u001b[39;00m \u001b[38;5;28;01mimport\u001b[39;00m Repo\n\u001b[0;32m      2\u001b[0m \u001b[38;5;66;03m# Initialize a new Git repository or open an existing one\u001b[39;00m\n\u001b[1;32m----> 3\u001b[0m repo_path \u001b[38;5;241m=\u001b[39m \u001b[43mos\u001b[49m\u001b[38;5;241m.\u001b[39mgetcwd()\n\u001b[0;32m      4\u001b[0m repo \u001b[38;5;241m=\u001b[39m Repo\u001b[38;5;241m.\u001b[39minit(repo_path)\n\u001b[0;32m      6\u001b[0m \u001b[38;5;66;03m# Add the database.py file to the repository\u001b[39;00m\n",
      "\u001b[1;31mNameError\u001b[0m: name 'os' is not defined"
     ]
    }
   ],
   "source": [
    "from git import Repo\n",
    "# Initialize a new Git repository or open an existing one\n",
    "repo_path = os.getcwd()\n",
    "repo = Repo.init(repo_path)\n",
    "\n",
    "# Add the database.py file to the repository\n",
    "repo.index.add(['lab_8.ipynb'])\n",
    "\n",
    "# Commit the changes\n",
    "repo.index.commit('lab_8.ipynb')\n",
    "\n",
    "# Push the changes to GitHub\n",
    "origin = repo.remote(name='origin')\n",
    "origin.push()"
   ]
  },
  {
   "cell_type": "code",
   "execution_count": null,
   "id": "6cf0b211",
   "metadata": {},
   "outputs": [],
   "source": []
  },
  {
   "cell_type": "code",
   "execution_count": null,
   "id": "9a917608",
   "metadata": {},
   "outputs": [],
   "source": []
  },
  {
   "cell_type": "code",
   "execution_count": null,
   "id": "132519a8",
   "metadata": {},
   "outputs": [],
   "source": []
  }
 ],
 "metadata": {
  "kernelspec": {
   "display_name": "Python 3 (ipykernel)",
   "language": "python",
   "name": "python3"
  },
  "language_info": {
   "codemirror_mode": {
    "name": "ipython",
    "version": 3
   },
   "file_extension": ".py",
   "mimetype": "text/x-python",
   "name": "python",
   "nbconvert_exporter": "python",
   "pygments_lexer": "ipython3",
   "version": "3.9.12"
  }
 },
 "nbformat": 4,
 "nbformat_minor": 5
}
